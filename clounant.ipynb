{
 "cells": [
  {
   "attachments": {},
   "cell_type": "markdown",
   "metadata": {},
   "source": [
    "## **Łączenie z IBM Cloudant**"
   ]
  },
  {
   "attachments": {},
   "cell_type": "markdown",
   "metadata": {},
   "source": [
    "#### Import biblioteki:"
   ]
  },
  {
   "cell_type": "code",
   "execution_count": 1,
   "metadata": {},
   "outputs": [],
   "source": [
    "from cloudant.client import Cloudant\n",
    "from cloudant.error import CloudantException\n",
    "from cloudant.result import Result, ResultByKey"
   ]
  },
  {
   "attachments": {},
   "cell_type": "markdown",
   "metadata": {},
   "source": [
    "#### Wprowadzenie danych do konta:"
   ]
  },
  {
   "cell_type": "code",
   "execution_count": 2,
   "metadata": {},
   "outputs": [],
   "source": [
    "#Nazwa użytkownika\n",
    "serviceUsername = \"apikey-v2-58B528DF5397465BB6673E1B79482A8C\"\n",
    "#Hasło\n",
    "servicePassword = \"49c0c343d225623956157d94b25d574586f26d1211e8e589646b4713d5de4801\"\n",
    "#URL bazy danych w IBM Cloudant\n",
    "serviceURL = \"https://353466e8-47eb-45ce-b125-4a4e1b5a4f7e-bluemix.cloudant.com\""
   ]
  },
  {
   "attachments": {},
   "cell_type": "markdown",
   "metadata": {},
   "source": [
    "#### Połączenie z chmurą:"
   ]
  },
  {
   "cell_type": "code",
   "execution_count": null,
   "metadata": {},
   "outputs": [],
   "source": [
    "client = Cloudant(serviceUsername, servicePassword, url=serviceURL)\n",
    "client.connect()"
   ]
  },
  {
   "attachments": {},
   "cell_type": "markdown",
   "metadata": {},
   "source": [
    "## **Utworzenie nowej bazy danych**"
   ]
  },
  {
   "cell_type": "code",
   "execution_count": null,
   "metadata": {},
   "outputs": [],
   "source": [
    "databaseName = \"database1\"\n",
    "client.create_database(databaseName)"
   ]
  },
  {
   "attachments": {},
   "cell_type": "markdown",
   "metadata": {},
   "source": [
    "#### Sprawdzenie, czy baza danych została poprawnie utworzona:"
   ]
  },
  {
   "cell_type": "code",
   "execution_count": null,
   "metadata": {},
   "outputs": [],
   "source": [
    "if myDatabase.exists():\n",
    "    print(\"'{0}' successfully created.\\n\".format(databaseName))"
   ]
  },
  {
   "attachments": {},
   "cell_type": "markdown",
   "metadata": {},
   "source": [
    "#### Wprowadzenie danych do bazy:"
   ]
  },
  {
   "cell_type": "code",
   "execution_count": null,
   "metadata": {},
   "outputs": [],
   "source": [
    "sampleData = [\n",
    "     [1, \"one\", \"boiling\", 100],\n",
    "     [2, \"two\", \"hot\", 40],\n",
    "     [3, \"three\", \"hot\", 75],\n",
    "     [4, \"four\", \"hot\", 97],\n",
    "     [5, \"five\", \"warm\", 20],\n",
    "     [6, \"six\", \"cold\", 10],\n",
    "     [7, \"seven\", \"freezing\", 0],\n",
    "     [8, \"eight\", \"freezing\", -5]\n",
    "]"
   ]
  },
  {
   "cell_type": "code",
   "execution_count": null,
   "metadata": {},
   "outputs": [],
   "source": [
    "for document in sampleData:\n",
    "    # Retrieve the fields in each row.\n",
    "    number = document[0]\n",
    "    name = document[1]\n",
    "    description = document[2]\n",
    "    temperature = document[3]"
   ]
  },
  {
   "attachments": {},
   "cell_type": "markdown",
   "metadata": {},
   "source": [
    "#### Zadeklarowanie dokumentu jako typ JSON:"
   ]
  },
  {
   "cell_type": "code",
   "execution_count": null,
   "metadata": {},
   "outputs": [],
   "source": [
    "jsonDocument = {\n",
    "    \"numberField\": number,\n",
    "    \"nameField\": name,\n",
    "    \"descriptionField\": description,\n",
    "    \"temperatureField\": temperature\n",
    "}"
   ]
  },
  {
   "attachments": {},
   "cell_type": "markdown",
   "metadata": {},
   "source": [
    "#### Utworzenie dokumenutu:"
   ]
  },
  {
   "cell_type": "code",
   "execution_count": null,
   "metadata": {},
   "outputs": [],
   "source": [
    "newDocument = myDatabase.create_document(jsonDocument)"
   ]
  },
  {
   "attachments": {},
   "cell_type": "markdown",
   "metadata": {},
   "source": [
    "#### Sprawdzenie, czy dokument został poprawnie utworzony:"
   ]
  },
  {
   "cell_type": "code",
   "execution_count": null,
   "metadata": {},
   "outputs": [],
   "source": [
    "if newDocument.exists():\n",
    "    print(\"Document '{0}' successfully created.\".format(number))"
   ]
  },
  {
   "attachments": {},
   "cell_type": "markdown",
   "metadata": {},
   "source": [
    "## **Uzyskiwanie dokumentów z bazy**"
   ]
  },
  {
   "cell_type": "code",
   "execution_count": null,
   "metadata": {},
   "outputs": [],
   "source": [
    "result_collection = Result (myDatabase.all_docs)\n",
    "print(\"Retrieved minimal document:\\n{0}\\n\".format(result_collection[0]))"
   ]
  },
  {
   "attachments": {},
   "cell_type": "markdown",
   "metadata": {},
   "source": [
    "#### Output:"
   ]
  },
  {
   "cell_type": "code",
   "execution_count": null,
   "metadata": {},
   "outputs": [],
   "source": [
    "[{\n",
    "\t\"id\": '60e19edf809418e407fb6791a1d8fec4',\n",
    "\t\"key\": '60e19edf809418e407fb6791a1d8fec4',\n",
    "\t\"value\": {\n",
    "\t\t\"rev\": '2-3d6dc27627114431c049ddecae9796e0'\n",
    "\t}\n",
    "}]"
   ]
  },
  {
   "attachments": {},
   "cell_type": "markdown",
   "metadata": {},
   "source": [
    "## **Uzyskiwanie dokumentów wraz z ich zawartością**"
   ]
  },
  {
   "cell_type": "code",
   "execution_count": null,
   "metadata": {},
   "outputs": [],
   "source": [
    "result_collection = Result(myDatabaseDemo.all_docs, include_docs=True)\n",
    "print(\"Retrieved minimal document:\\n{0}\\n\".format(result_collection[0]))"
   ]
  },
  {
   "attachments": {},
   "cell_type": "markdown",
   "metadata": {},
   "source": [
    "#### Output:"
   ]
  },
  {
   "cell_type": "code",
   "execution_count": null,
   "metadata": {},
   "outputs": [],
   "source": [
    "[\n",
    "    {\n",
    "        \"value\": {\n",
    "          \"rev\": \"1-b2c48b89f48f1dc172d4db3f17ff6b9a\"\n",
    "        },\n",
    "        \"id\": \"14746fe384c7e2f06f7295403df89187\",\n",
    "        \"key\": \"14746fe384c7e2f06f7295403df89187\",\n",
    "        \"doc\": {\n",
    "            \"temperatureField\": 10,\n",
    "            \"descriptionField\": \"cold\",\n",
    "            \"numberField\": 6,\n",
    "            \"nameField\": \"six\",\n",
    "            \"_id\": \"14746fe384c7e2f06f7295403df89187\",\n",
    "            \"_rev\": \"1-b2c48b89f48f1dc172d4db3f17ff6b9a\"\n",
    "        }\n",
    "    }\n",
    "]"
   ]
  },
  {
   "attachments": {},
   "cell_type": "markdown",
   "metadata": {},
   "source": [
    "## **Usuwanie bazy danych z IBM Cloudant**"
   ]
  },
  {
   "cell_type": "code",
   "execution_count": null,
   "metadata": {},
   "outputs": [],
   "source": [
    "try :\n",
    "    client.delete_database(databaseName)\n",
    "except CloudantException:\n",
    "    print(\"There was a problem deleting '{0}'.\\n\".format(databaseName))\n",
    "else:\n",
    "    print(\"'{0}' successfully deleted.\\n\".format(databaseName))"
   ]
  },
  {
   "attachments": {},
   "cell_type": "markdown",
   "metadata": {},
   "source": [
    "## **Rozłączenie z IBM Cloudant**"
   ]
  },
  {
   "cell_type": "code",
   "execution_count": null,
   "metadata": {},
   "outputs": [],
   "source": [
    "client.disconnect()"
   ]
  }
 ],
 "metadata": {
  "kernelspec": {
   "display_name": "Python 3",
   "language": "python",
   "name": "python3"
  },
  "language_info": {
   "codemirror_mode": {
    "name": "ipython",
    "version": 3
   },
   "file_extension": ".py",
   "mimetype": "text/x-python",
   "name": "python",
   "nbconvert_exporter": "python",
   "pygments_lexer": "ipython3",
   "version": "3.10.5"
  },
  "orig_nbformat": 4
 },
 "nbformat": 4,
 "nbformat_minor": 2
}
