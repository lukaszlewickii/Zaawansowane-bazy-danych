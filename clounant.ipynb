{
 "cells": [
  {
   "attachments": {},
   "cell_type": "markdown",
   "metadata": {},
   "source": [
    "### Łączenie z IBM Cloudant"
   ]
  },
  {
   "cell_type": "code",
   "execution_count": 1,
   "metadata": {},
   "outputs": [],
   "source": [
    "from cloudant.client import Cloudant\n",
    "from cloudant.error import CloudantException\n",
    "from cloudant.result import Result, ResultByKey"
   ]
  },
  {
   "cell_type": "code",
   "execution_count": 2,
   "metadata": {},
   "outputs": [],
   "source": [
    "#Nazwa użytkownika\n",
    "serviceUsername = \"apikey-v2-58B528DF5397465BB6673E1B79482A8C\"\n",
    "#Hasło\n",
    "servicePassword = \"49c0c343d225623956157d94b25d574586f26d1211e8e589646b4713d5de4801\"\n",
    "#URL bazy danych w IBM Cloudant\n",
    "serviceURL = \"https://353466e8-47eb-45ce-b125-4a4e1b5a4f7e-bluemix.cloudant.com\""
   ]
  },
  {
   "cell_type": "code",
   "execution_count": 3,
   "metadata": {},
   "outputs": [
    {
     "ename": "HTTPError",
     "evalue": "401 Client Error: Unauthorized for url: https://353466e8-47eb-45ce-b125-4a4e1b5a4f7e-bluemix.cloudant.com/_session",
     "output_type": "error",
     "traceback": [
      "\u001b[1;31m---------------------------------------------------------------------------\u001b[0m",
      "\u001b[1;31mHTTPError\u001b[0m                                 Traceback (most recent call last)",
      "\u001b[1;32md:\\Desktop\\Studia\\Informatyka - II stopień\\II semestr\\Zaawansowane bazy danych\\Zaawansowane-bazy-danych\\clounant.ipynb Cell 4\u001b[0m in \u001b[0;36m2\n\u001b[0;32m      <a href='vscode-notebook-cell:/d%3A/Desktop/Studia/Informatyka%20-%20II%20stopie%C5%84/II%20semestr/Zaawansowane%20bazy%20danych/Zaawansowane-bazy-danych/clounant.ipynb#W3sZmlsZQ%3D%3D?line=0'>1</a>\u001b[0m client \u001b[39m=\u001b[39m Cloudant(serviceUsername, servicePassword, url\u001b[39m=\u001b[39mserviceURL)\n\u001b[1;32m----> <a href='vscode-notebook-cell:/d%3A/Desktop/Studia/Informatyka%20-%20II%20stopie%C5%84/II%20semestr/Zaawansowane%20bazy%20danych/Zaawansowane-bazy-danych/clounant.ipynb#W3sZmlsZQ%3D%3D?line=1'>2</a>\u001b[0m client\u001b[39m.\u001b[39mconnect()\n",
      "File \u001b[1;32mc:\\Users\\Łukasz\\AppData\\Local\\Programs\\Python\\Python310\\lib\\site-packages\\cloudant\\client.py:190\u001b[0m, in \u001b[0;36mCouchDB.connect\u001b[1;34m(self)\u001b[0m\n\u001b[0;32m    187\u001b[0m \u001b[39mif\u001b[39;00m \u001b[39mself\u001b[39m\u001b[39m.\u001b[39m_client_user_header \u001b[39mis\u001b[39;00m \u001b[39mnot\u001b[39;00m \u001b[39mNone\u001b[39;00m:\n\u001b[0;32m    188\u001b[0m     \u001b[39mself\u001b[39m\u001b[39m.\u001b[39mr_session\u001b[39m.\u001b[39mheaders\u001b[39m.\u001b[39mupdate(\u001b[39mself\u001b[39m\u001b[39m.\u001b[39m_client_user_header)\n\u001b[1;32m--> 190\u001b[0m \u001b[39mself\u001b[39;49m\u001b[39m.\u001b[39;49msession_login()\n\u001b[0;32m    192\u001b[0m \u001b[39m# Utilize an event hook to append to the response message\u001b[39;00m\n\u001b[0;32m    193\u001b[0m \u001b[39m# using :func:`~cloudant.common_util.append_response_error_content`\u001b[39;00m\n\u001b[0;32m    194\u001b[0m \u001b[39mself\u001b[39m\u001b[39m.\u001b[39mr_session\u001b[39m.\u001b[39mhooks[\u001b[39m'\u001b[39m\u001b[39mresponse\u001b[39m\u001b[39m'\u001b[39m]\u001b[39m.\u001b[39mappend(append_response_error_content)\n",
      "File \u001b[1;32mc:\\Users\\Łukasz\\AppData\\Local\\Programs\\Python\\Python310\\lib\\site-packages\\cloudant\\client.py:231\u001b[0m, in \u001b[0;36mCouchDB.session_login\u001b[1;34m(self, user, passwd)\u001b[0m\n\u001b[0;32m    223\u001b[0m \u001b[39mdef\u001b[39;00m \u001b[39msession_login\u001b[39m(\u001b[39mself\u001b[39m, user\u001b[39m=\u001b[39m\u001b[39mNone\u001b[39;00m, passwd\u001b[39m=\u001b[39m\u001b[39mNone\u001b[39;00m):\n\u001b[0;32m    224\u001b[0m     \u001b[39m\"\"\"\u001b[39;00m\n\u001b[0;32m    225\u001b[0m \u001b[39m    Performs a session login by posting the auth information\u001b[39;00m\n\u001b[0;32m    226\u001b[0m \u001b[39m    to the _session endpoint.\u001b[39;00m\n\u001b[1;32m   (...)\u001b[0m\n\u001b[0;32m    229\u001b[0m \u001b[39m    :param str auth_token: Authentication token used to connect to server.\u001b[39;00m\n\u001b[0;32m    230\u001b[0m \u001b[39m    \"\"\"\u001b[39;00m\n\u001b[1;32m--> 231\u001b[0m     \u001b[39mself\u001b[39;49m\u001b[39m.\u001b[39;49mchange_credentials(user\u001b[39m=\u001b[39;49muser, auth_token\u001b[39m=\u001b[39;49mpasswd)\n",
      "File \u001b[1;32mc:\\Users\\Łukasz\\AppData\\Local\\Programs\\Python\\Python310\\lib\\site-packages\\cloudant\\client.py:241\u001b[0m, in \u001b[0;36mCouchDB.change_credentials\u001b[1;34m(self, user, auth_token)\u001b[0m\n\u001b[0;32m    234\u001b[0m \u001b[39m\"\"\"\u001b[39;00m\n\u001b[0;32m    235\u001b[0m \u001b[39mChange login credentials.\u001b[39;00m\n\u001b[0;32m    236\u001b[0m \n\u001b[0;32m    237\u001b[0m \u001b[39m:param str user: Username used to connect to server.\u001b[39;00m\n\u001b[0;32m    238\u001b[0m \u001b[39m:param str auth_token: Authentication token used to connect to server.\u001b[39;00m\n\u001b[0;32m    239\u001b[0m \u001b[39m\"\"\"\u001b[39;00m\n\u001b[0;32m    240\u001b[0m \u001b[39mself\u001b[39m\u001b[39m.\u001b[39mr_session\u001b[39m.\u001b[39mset_credentials(user, auth_token)\n\u001b[1;32m--> 241\u001b[0m \u001b[39mself\u001b[39;49m\u001b[39m.\u001b[39;49mr_session\u001b[39m.\u001b[39;49mlogin()\n",
      "File \u001b[1;32mc:\\Users\\Łukasz\\AppData\\Local\\Programs\\Python\\Python310\\lib\\site-packages\\cloudant\\_client_session.py:155\u001b[0m, in \u001b[0;36mCookieSession.login\u001b[1;34m(self)\u001b[0m\n\u001b[0;32m    147\u001b[0m \u001b[39m\"\"\"\u001b[39;00m\n\u001b[0;32m    148\u001b[0m \u001b[39mPerform cookie based user login.\u001b[39;00m\n\u001b[0;32m    149\u001b[0m \u001b[39m\"\"\"\u001b[39;00m\n\u001b[0;32m    150\u001b[0m resp \u001b[39m=\u001b[39m \u001b[39msuper\u001b[39m(CookieSession, \u001b[39mself\u001b[39m)\u001b[39m.\u001b[39mrequest(\n\u001b[0;32m    151\u001b[0m     \u001b[39m'\u001b[39m\u001b[39mPOST\u001b[39m\u001b[39m'\u001b[39m,\n\u001b[0;32m    152\u001b[0m     \u001b[39mself\u001b[39m\u001b[39m.\u001b[39m_session_url,\n\u001b[0;32m    153\u001b[0m     data\u001b[39m=\u001b[39m{\u001b[39m'\u001b[39m\u001b[39mname\u001b[39m\u001b[39m'\u001b[39m: \u001b[39mself\u001b[39m\u001b[39m.\u001b[39m_username, \u001b[39m'\u001b[39m\u001b[39mpassword\u001b[39m\u001b[39m'\u001b[39m: \u001b[39mself\u001b[39m\u001b[39m.\u001b[39m_password},\n\u001b[0;32m    154\u001b[0m )\n\u001b[1;32m--> 155\u001b[0m resp\u001b[39m.\u001b[39;49mraise_for_status()\n",
      "File \u001b[1;32mc:\\Users\\Łukasz\\AppData\\Local\\Programs\\Python\\Python310\\lib\\site-packages\\requests\\models.py:1021\u001b[0m, in \u001b[0;36mResponse.raise_for_status\u001b[1;34m(self)\u001b[0m\n\u001b[0;32m   1016\u001b[0m     http_error_msg \u001b[39m=\u001b[39m (\n\u001b[0;32m   1017\u001b[0m         \u001b[39mf\u001b[39m\u001b[39m\"\u001b[39m\u001b[39m{\u001b[39;00m\u001b[39mself\u001b[39m\u001b[39m.\u001b[39mstatus_code\u001b[39m}\u001b[39;00m\u001b[39m Server Error: \u001b[39m\u001b[39m{\u001b[39;00mreason\u001b[39m}\u001b[39;00m\u001b[39m for url: \u001b[39m\u001b[39m{\u001b[39;00m\u001b[39mself\u001b[39m\u001b[39m.\u001b[39murl\u001b[39m}\u001b[39;00m\u001b[39m\"\u001b[39m\n\u001b[0;32m   1018\u001b[0m     )\n\u001b[0;32m   1020\u001b[0m \u001b[39mif\u001b[39;00m http_error_msg:\n\u001b[1;32m-> 1021\u001b[0m     \u001b[39mraise\u001b[39;00m HTTPError(http_error_msg, response\u001b[39m=\u001b[39m\u001b[39mself\u001b[39m)\n",
      "\u001b[1;31mHTTPError\u001b[0m: 401 Client Error: Unauthorized for url: https://353466e8-47eb-45ce-b125-4a4e1b5a4f7e-bluemix.cloudant.com/_session"
     ]
    }
   ],
   "source": [
    "client = Cloudant(serviceUsername, servicePassword, url=serviceURL)\n",
    "client.connect()"
   ]
  },
  {
   "cell_type": "code",
   "execution_count": null,
   "metadata": {},
   "outputs": [],
   "source": [
    "client = Cloudant.iam(ACCOUNT_NAME, API_KEY, connect=True)"
   ]
  },
  {
   "attachments": {},
   "cell_type": "markdown",
   "metadata": {},
   "source": []
  }
 ],
 "metadata": {
  "kernelspec": {
   "display_name": "Python 3",
   "language": "python",
   "name": "python3"
  },
  "language_info": {
   "codemirror_mode": {
    "name": "ipython",
    "version": 3
   },
   "file_extension": ".py",
   "mimetype": "text/x-python",
   "name": "python",
   "nbconvert_exporter": "python",
   "pygments_lexer": "ipython3",
   "version": "3.10.5"
  },
  "orig_nbformat": 4
 },
 "nbformat": 4,
 "nbformat_minor": 2
}
