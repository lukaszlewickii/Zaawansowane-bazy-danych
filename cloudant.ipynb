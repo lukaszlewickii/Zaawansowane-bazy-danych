{
 "cells": [
  {
   "attachments": {},
   "cell_type": "markdown",
   "metadata": {},
   "source": [
    "## **Łączenie z IBM Cloudant**"
   ]
  },
  {
   "attachments": {},
   "cell_type": "markdown",
   "metadata": {},
   "source": [
    "#### Import biblioteki:\n",
    "<ul>\n",
    "    <li>Cloudant - zapewnia interfejs do nawiązywania połączenia z usługą Cloudant, wykonywania operacji na bazach danych, tworzenia, modyfikowania i usuwania dokumentów itp.</li>\n",
    "    <li> \n",
    "<ul>"
   ]
  },
  {
   "cell_type": "code",
   "execution_count": 2,
   "metadata": {},
   "outputs": [],
   "source": [
    "from cloudant.client import Cloudant\n",
    "from cloudant.design_document import DesignDocument\n",
    "from cloudant.query import QueryResult\n",
    "from cloudant.view import ViewResult\n",
    "from cloudant.error import CloudantException\n",
    "from cloudant.result import Result\n",
    "from cloudant.search import SearchResult"
   ]
  },
  {
   "attachments": {},
   "cell_type": "markdown",
   "metadata": {},
   "source": [
    "#### Wprowadzenie danych do konta:"
   ]
  },
  {
   "cell_type": "code",
   "execution_count": 3,
   "metadata": {},
   "outputs": [],
   "source": [
    "#Nazwa użytkownika\n",
    "serviceUsername = \"apikey-v2-58B528DF5397465BB6673E1B79482A8C\"\n",
    "\n",
    "#Hasło\n",
    "servicePassword = \"49c0c343d225623956157d94b25d574586f26d1211e8e589646b4713d5de4801\"\n",
    "\n",
    "#URL bazy danych w IBM Cloudant\n",
    "serviceURL = \"https://353466e8-47eb-45ce-b125-4a4e1b5a4f7e-bluemix.cloudant.com\""
   ]
  },
  {
   "attachments": {},
   "cell_type": "markdown",
   "metadata": {},
   "source": [
    "#### Połączenie z chmurą\n",
    "W celu połączenia się z IBM Cloudant należy utworzyć klienta, podając dane do konta IBM Cloud."
   ]
  },
  {
   "cell_type": "code",
   "execution_count": null,
   "metadata": {},
   "outputs": [],
   "source": [
    "client = Cloudant(serviceUsername, servicePassword, url=serviceURL)\n",
    "client.connect()"
   ]
  },
  {
   "attachments": {},
   "cell_type": "markdown",
   "metadata": {},
   "source": [
    "## **Utworzenie nowej bazy danych**"
   ]
  },
  {
   "cell_type": "code",
   "execution_count": null,
   "metadata": {},
   "outputs": [],
   "source": [
    "my_database = client.create_database('database1')"
   ]
  },
  {
   "cell_type": "code",
   "execution_count": null,
   "metadata": {},
   "outputs": [],
   "source": [
    "my_database = client['database1']"
   ]
  },
  {
   "attachments": {},
   "cell_type": "markdown",
   "metadata": {},
   "source": [
    "#### Sprawdzenie, czy baza danych została poprawnie utworzona:"
   ]
  },
  {
   "cell_type": "code",
   "execution_count": null,
   "metadata": {},
   "outputs": [],
   "source": [
    "if my_database.exists():\n",
    "    print('SUCCESS!!')"
   ]
  },
  {
   "attachments": {},
   "cell_type": "markdown",
   "metadata": {},
   "source": [
    "#### Utworzenie partitioned database\n",
    "\n",
    "Partitioned databases to bazy danych, które wprowadzają możliwość tworzenia logicznych grup dokumentów, zwanych partycjami, poprzez przypisanie klucza partycji do każdego dokumentu. Aby móc utworzyć taką bazę danych, należy w ustawieniach włączyć opcję `partitions`."
   ]
  },
  {
   "cell_type": "code",
   "execution_count": null,
   "metadata": {},
   "outputs": [],
   "source": [
    "db = client.create_database('mydb', partitioned=True)"
   ]
  },
  {
   "attachments": {},
   "cell_type": "markdown",
   "metadata": {},
   "source": [
    "## **Utworzenie dokumentu w partitioned database**\n",
    "Identyfikator dokumentu składa się zarówno z klucza partycji, jak i klucza dokumentu w formacie `<partitionkey>:<documentkey>`, gdzie:\n",
    "<ul>\n",
    "<li>Partition key (string) - musi być niepusty, nie może zawierać dwukropków (ponieważ są one używane jako separator kluczy partycji) ani zaczynać się od podkreślenia.</li>\n",
    "<li>Document key (string) - musi być niepusty, nie może zaczynać się od podkreślenia.</li>\n",
    "</ul>\n",
    "\n",
    "Należy pamiętać, że dokumenty `_design` i `_local` nie mogą zawierać klucza partycji, ponieważ są to globalne definicje i mają zastosowanie do całej bazy danych. \n",
    "\n",
    "Dokumenty `_design` są używane do definiowania widoków, które pomagają w indeksowaniu i przeszukiwaniu danych w bazie Cloudant. Widoki pozwalają na definiowanie funkcji mapowania i redukcji, które są stosowane do danych przechowywanych w bazie danych. Mogą być używane do wykonywania zaawansowanych zapytań i agregacji danych. \n",
    "\n",
    "Dokumenty `_local` z kolei przechowują lokalne ustawienia i konfiguracje bazy danych."
   ]
  },
  {
   "cell_type": "code",
   "execution_count": null,
   "metadata": {},
   "outputs": [],
   "source": [
    "partition_key = 'CategoryA'\n",
    "document_key = 'product123'\n",
    "\n",
    "db.create_document({\n",
    "    '_id': ':'.join((partition_key, document_key)),\n",
    "    'name': 'Example Product',\n",
    "    'price': 19.99,\n",
    "    'description': 'This is an example product in Category A.',\n",
    "    'in_stock': True\n",
    "})"
   ]
  },
  {
   "attachments": {},
   "cell_type": "markdown",
   "metadata": {},
   "source": [
    "#### Pobieranie dokumentu z bazy danych o określonych partition key i document key"
   ]
  },
  {
   "cell_type": "code",
   "execution_count": null,
   "metadata": {},
   "outputs": [],
   "source": [
    "doc = db[':'.join((partition_key, document_key))]"
   ]
  },
  {
   "attachments": {},
   "cell_type": "markdown",
   "metadata": {},
   "source": [
    "#### Tworzenie dokumentu _design"
   ]
  },
  {
   "cell_type": "code",
   "execution_count": null,
   "metadata": {},
   "outputs": [],
   "source": [
    "ddoc = DesignDocument(db, document_id='view', partitioned=True)\n",
    "ddoc.add_view('myview','function(doc) { emit(doc.foo, doc.bar); }')\n",
    "ddoc.save()"
   ]
  },
  {
   "attachments": {},
   "cell_type": "markdown",
   "metadata": {},
   "source": [
    "#### Tworzenie indeksu zapytań"
   ]
  },
  {
   "cell_type": "code",
   "execution_count": null,
   "metadata": {},
   "outputs": [],
   "source": [
    "index = db.create_query_index(\n",
    "    design_document_id='query',\n",
    "    index_name='foo-index',\n",
    "    fields=['foo'],\n",
    "    partitioned=True\n",
    ")\n",
    "index.create()"
   ]
  },
  {
   "attachments": {},
   "cell_type": "markdown",
   "metadata": {},
   "source": [
    "#### Wykonywanie zapytań w bazie danych Cloudant\n",
    "\n",
    "Query:"
   ]
  },
  {
   "cell_type": "code",
   "execution_count": null,
   "metadata": {},
   "outputs": [],
   "source": [
    "results = self.db.get_partitioned_query_result(\n",
    "    partition_key, selector={'foo': {'$eq': 'bar'}})\n",
    "\n",
    "for result in results:\n",
    "    get_partitioned_query_result()"
   ]
  },
  {
   "attachments": {},
   "cell_type": "markdown",
   "metadata": {},
   "source": [
    "Views:"
   ]
  },
  {
   "cell_type": "code",
   "execution_count": null,
   "metadata": {},
   "outputs": [],
   "source": [
    "results = self.db.get_partitioned_view_result(\n",
    "    partition_key, view_ddoc['_id'], 'view1')\n",
    "\n",
    "for result in results:\n",
    "    get_partitioned_view_result()"
   ]
  },
  {
   "attachments": {},
   "cell_type": "markdown",
   "metadata": {},
   "source": [
    "## **Dokumenty**"
   ]
  },
  {
   "cell_type": "code",
   "execution_count": null,
   "metadata": {},
   "outputs": [],
   "source": [
    "data = {\n",
    "    '_id': 'julia30', #Ustawienie _id w tym miejscu jest opcjonalne\n",
    "    'name': 'Julia',\n",
    "    'age': 30,\n",
    "    'pets': ['cat', 'dog', 'frog']\n",
    "    }\n",
    "\n",
    "#Utworzenie dokumentu z wykorzystaniem Database API\n",
    "my_document = my_database.create_document(data)\n",
    "\n",
    "#Sprawdzenie, czy dokument został poprawnie utworzony\n",
    "if my_document.exists():\n",
    "    print('SUCCESS!!')"
   ]
  },
  {
   "attachments": {},
   "cell_type": "markdown",
   "metadata": {},
   "source": [
    "## **Uzyskiwanie dokumentu z bazy**"
   ]
  },
  {
   "cell_type": "code",
   "execution_count": null,
   "metadata": {},
   "outputs": [],
   "source": [
    "my_document = my_database['julia30']\n",
    "\n",
    "#Wyświetlenie dokumentu\n",
    "print(my_document)"
   ]
  },
  {
   "attachments": {},
   "cell_type": "markdown",
   "metadata": {},
   "source": [
    "## **Uzyskiwanie wszystkich dokumentów znajdujących się w bazie**"
   ]
  },
  {
   "cell_type": "code",
   "execution_count": null,
   "metadata": {},
   "outputs": [],
   "source": [
    "for document in my_database:\n",
    "    print(document)"
   ]
  },
  {
   "attachments": {},
   "cell_type": "markdown",
   "metadata": {},
   "source": [
    "## **Updatowanie danych w dokumencie**"
   ]
  },
  {
   "cell_type": "code",
   "execution_count": null,
   "metadata": {},
   "outputs": [],
   "source": [
    "#Wyciągnięcie dokumentu z bazy\n",
    "my_document = my_database['julia30']\n",
    "\n",
    "#Updatowanie wybranych danych tak jak w słowniku\n",
    "my_document['name'] = 'Jules'\n",
    "my_document['age'] = 6\n",
    "\n",
    "#Zapisujemy zmiany w dokumencie\n",
    "my_document.save()"
   ]
  },
  {
   "attachments": {},
   "cell_type": "markdown",
   "metadata": {},
   "source": [
    "## **Usuwanie dokumentu**"
   ]
  },
  {
   "cell_type": "code",
   "execution_count": null,
   "metadata": {},
   "outputs": [],
   "source": [
    "my_document = my_database['julia30']\n",
    "\n",
    "my_document.delete()"
   ]
  },
  {
   "attachments": {},
   "cell_type": "markdown",
   "metadata": {},
   "source": [
    "## **Uzyskiwanie dokumentów wraz z ich zawartością**\n",
    "\n",
    "Klasa `Result` w bibliotece Cloudant dostarcza interfejsu umożliwiającego dostęp, wycięcie i iterację po wynikach z naszych dokumentów."
   ]
  },
  {
   "cell_type": "code",
   "execution_count": null,
   "metadata": {},
   "outputs": [],
   "source": [
    "from cloudant.result import Result, ResultByKey\n",
    "\n",
    "# Retrieve Result wrapped document content.\n",
    "# Note: The include_docs parameter is optional and is used to illustrate that view query\n",
    "# parameters can be used to customize the result collection.\n",
    "result_collection = Result(my_database.all_docs, include_docs=True)\n",
    "\n",
    "# Get the result at a given location in the result collection\n",
    "# Note: Valid result collection indexing starts at 0\n",
    "result = result_collection[0]                   # result is the 1st in the collection\n",
    "result = result_collection[9]                   # result is the 10th in the collection\n",
    "\n",
    "# Get the result for matching a key\n",
    "result = result_collection['julia30']           # result is all that match key 'julia30'\n",
    "\n",
    "# If your key is an integer then use the ResultByKey class to differentiate your integer\n",
    "# key from an indexed location within the result collection which is also an integer.\n",
    "result = result_collection[ResultByKey(9)]      # result is all that match key 9\n",
    "\n",
    "# Slice by key values\n",
    "result = result_collection['julia30': 'ruby99'] # result is between and including keys\n",
    "result = result_collection['julia30': ]         # result is after and including key\n",
    "result = result_collection[: 'ruby99']          # result is up to and including key\n",
    "\n",
    "# Slice by index values\n",
    "result = result_collection[100: 200]            # result is between 100 to 200, including 200th\n",
    "result = result_collection[: 200]               # result is up to and including the 200th\n",
    "result = result_collection[100: ]               # result is after the 100th\n",
    "\n",
    "# Iterate over the result collection\n",
    "for result in result_collection:\n",
    "    print(result)"
   ]
  },
  {
   "attachments": {},
   "cell_type": "markdown",
   "metadata": {},
   "source": [
    "## **Usuwanie bazy danych z IBM Cloudant**"
   ]
  },
  {
   "cell_type": "code",
   "execution_count": null,
   "metadata": {},
   "outputs": [],
   "source": [
    "client.delete_database('my_database')"
   ]
  },
  {
   "attachments": {},
   "cell_type": "markdown",
   "metadata": {},
   "source": [
    "## **Rozłączenie z IBM Cloudant**"
   ]
  },
  {
   "cell_type": "code",
   "execution_count": null,
   "metadata": {},
   "outputs": [],
   "source": [
    "client.disconnect()"
   ]
  }
 ],
 "metadata": {
  "kernelspec": {
   "display_name": "Python 3",
   "language": "python",
   "name": "python3"
  },
  "language_info": {
   "codemirror_mode": {
    "name": "ipython",
    "version": 3
   },
   "file_extension": ".py",
   "mimetype": "text/x-python",
   "name": "python",
   "nbconvert_exporter": "python",
   "pygments_lexer": "ipython3",
   "version": "3.10.5"
  },
  "orig_nbformat": 4
 },
 "nbformat": 4,
 "nbformat_minor": 2
}
